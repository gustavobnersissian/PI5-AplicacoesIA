{
 "cells": [
  {
   "cell_type": "code",
   "execution_count": 1,
   "id": "f4a0c162",
   "metadata": {},
   "outputs": [],
   "source": [
    "import numpy as np \n",
    "import pandas as pd \n",
    "import matplotlib.pyplot as plt\n",
    "import tensorflow as tf\n",
    "from PIL import Image\n",
    "import os\n",
    "from sklearn.model_selection import train_test_split\n",
    "from keras.utils import to_categorical\n",
    "from keras.models import Sequential, load_model\n",
    "from keras.layers import Conv2D, MaxPool2D, Dense, Flatten, Dropout"
   ]
  },
  {
   "cell_type": "code",
   "execution_count": null,
   "id": "5635fdc8",
   "metadata": {},
   "outputs": [],
   "source": []
  },
  {
   "cell_type": "code",
   "execution_count": 2,
   "id": "9b748455",
   "metadata": {},
   "outputs": [],
   "source": [
    "data = []\n",
    "labels = []\n",
    "classes = 43\n",
    "cur_path = os.getcwd()\n",
    "\n",
    "for i in range(classes):\n",
    "    path = os.path.join(cur_path,'train',str(i))\n",
    "    images = os.listdir(path)\n",
    "    for a in images:\n",
    "        try:\n",
    "            image = Image.open(path + '\\\\'+ a)\n",
    "            image = image.resize((30,30))\n",
    "            image = np.array(image)\n",
    "            data.append(image)\n",
    "            labels.append(i)\n",
    "        except:\n",
    "            print(\"Error loading image\")\n",
    "\n",
    "data = np.array(data)\n",
    "labels = np.array(labels)"
   ]
  },
  {
   "cell_type": "code",
   "execution_count": 3,
   "id": "d8abe1f2",
   "metadata": {},
   "outputs": [
    {
     "name": "stdout",
     "output_type": "stream",
     "text": [
      "(39209, 30, 30, 3) (39209,)\n",
      "(31367, 30, 30, 3) (7842, 30, 30, 3) (31367,) (7842,)\n"
     ]
    }
   ],
   "source": [
    "print(data.shape, labels.shape)\n",
    "X_train, X_test, y_train, y_test = train_test_split(data, labels, test_size=0.2, random_state=42)\n",
    "print(X_train.shape, X_test.shape, y_train.shape, y_test.shape)\n",
    "y_train = to_categorical(y_train, 43)\n",
    "y_test = to_categorical(y_test, 43)"
   ]
  },
  {
   "cell_type": "code",
   "execution_count": 4,
   "id": "4fd26d6e",
   "metadata": {},
   "outputs": [],
   "source": [
    "    model = Sequential()\n",
    "    model.add(Conv2D(filters=32, kernel_size=(5,5), activation='relu', input_shape=X_train.shape[1:]))\n",
    "    model.add(Conv2D(filters=32, kernel_size=(5,5), activation='relu'))\n",
    "    model.add(MaxPool2D(pool_size=(2, 2)))\n",
    "    model.add(Dropout(rate=0.25))\n",
    "    model.add(Conv2D(filters=64, kernel_size=(3, 3), activation='relu'))\n",
    "    model.add(Conv2D(filters=64, kernel_size=(3, 3), activation='relu'))\n",
    "    model.add(MaxPool2D(pool_size=(2, 2)))\n",
    "    model.add(Dropout(rate=0.25))\n",
    "    model.add(Flatten())\n",
    "    model.add(Dense(256, activation='relu'))\n",
    "    model.add(Dropout(rate=0.5))\n",
    "    model.add(Dense(43, activation='softmax'))"
   ]
  },
  {
   "cell_type": "code",
   "execution_count": 5,
   "id": "432c0e4b",
   "metadata": {
    "scrolled": true
   },
   "outputs": [
    {
     "name": "stdout",
     "output_type": "stream",
     "text": [
      "Epoch 1/25\n",
      "981/981 [==============================] - 34s 33ms/step - loss: 1.7877 - accuracy: 0.5724 - val_loss: 0.3465 - val_accuracy: 0.9051\n",
      "Epoch 2/25\n",
      "981/981 [==============================] - 35s 36ms/step - loss: 0.5020 - accuracy: 0.8594 - val_loss: 0.1819 - val_accuracy: 0.9630\n",
      "Epoch 3/25\n",
      "981/981 [==============================] - 33s 33ms/step - loss: 0.3399 - accuracy: 0.9060 - val_loss: 0.0971 - val_accuracy: 0.9745\n",
      "Epoch 4/25\n",
      "981/981 [==============================] - 32s 32ms/step - loss: 0.2836 - accuracy: 0.9211 - val_loss: 0.0968 - val_accuracy: 0.9717\n",
      "Epoch 5/25\n",
      "981/981 [==============================] - 32s 32ms/step - loss: 0.2600 - accuracy: 0.9277 - val_loss: 0.0831 - val_accuracy: 0.9777\n",
      "Epoch 6/25\n",
      "981/981 [==============================] - 31s 32ms/step - loss: 0.2328 - accuracy: 0.9376 - val_loss: 0.0602 - val_accuracy: 0.9841\n",
      "Epoch 7/25\n",
      "981/981 [==============================] - 31s 32ms/step - loss: 0.2277 - accuracy: 0.9396 - val_loss: 0.0605 - val_accuracy: 0.9848\n",
      "Epoch 8/25\n",
      "981/981 [==============================] - 32s 32ms/step - loss: 0.1967 - accuracy: 0.9477 - val_loss: 0.0449 - val_accuracy: 0.9884\n",
      "Epoch 9/25\n",
      "981/981 [==============================] - 36s 36ms/step - loss: 0.2206 - accuracy: 0.9424 - val_loss: 0.0451 - val_accuracy: 0.9874\n",
      "Epoch 10/25\n",
      "981/981 [==============================] - 33s 33ms/step - loss: 0.2000 - accuracy: 0.9500 - val_loss: 0.0437 - val_accuracy: 0.9901\n",
      "Epoch 11/25\n",
      "981/981 [==============================] - 34s 35ms/step - loss: 0.2258 - accuracy: 0.9457 - val_loss: 0.0447 - val_accuracy: 0.9888\n",
      "Epoch 12/25\n",
      "981/981 [==============================] - 33s 33ms/step - loss: 0.2019 - accuracy: 0.9491 - val_loss: 0.0579 - val_accuracy: 0.9847\n",
      "Epoch 13/25\n",
      "981/981 [==============================] - 32s 33ms/step - loss: 0.2054 - accuracy: 0.9483 - val_loss: 0.0523 - val_accuracy: 0.9875\n",
      "Epoch 14/25\n",
      "981/981 [==============================] - 32s 33ms/step - loss: 0.2195 - accuracy: 0.9467 - val_loss: 0.0551 - val_accuracy: 0.9848\n",
      "Epoch 15/25\n",
      "981/981 [==============================] - 38s 39ms/step - loss: 0.1905 - accuracy: 0.9524 - val_loss: 0.1105 - val_accuracy: 0.9700\n",
      "Epoch 16/25\n",
      "981/981 [==============================] - 35s 36ms/step - loss: 0.2036 - accuracy: 0.9516 - val_loss: 0.0443 - val_accuracy: 0.9885\n",
      "Epoch 17/25\n",
      "981/981 [==============================] - 38s 39ms/step - loss: 0.1882 - accuracy: 0.9546 - val_loss: 0.0414 - val_accuracy: 0.9894\n",
      "Epoch 18/25\n",
      "981/981 [==============================] - 35s 36ms/step - loss: 0.1940 - accuracy: 0.9527 - val_loss: 0.0539 - val_accuracy: 0.9839\n",
      "Epoch 19/25\n",
      "981/981 [==============================] - 37s 38ms/step - loss: 0.1994 - accuracy: 0.9536 - val_loss: 0.0560 - val_accuracy: 0.9865\n",
      "Epoch 20/25\n",
      "981/981 [==============================] - 36s 37ms/step - loss: 0.2265 - accuracy: 0.9496 - val_loss: 0.0365 - val_accuracy: 0.9904\n",
      "Epoch 21/25\n",
      "981/981 [==============================] - 32s 33ms/step - loss: 0.2237 - accuracy: 0.9499 - val_loss: 0.0433 - val_accuracy: 0.9887\n",
      "Epoch 22/25\n",
      "981/981 [==============================] - 33s 33ms/step - loss: 0.2047 - accuracy: 0.9532 - val_loss: 0.0460 - val_accuracy: 0.9899\n",
      "Epoch 23/25\n",
      "981/981 [==============================] - 33s 34ms/step - loss: 0.2093 - accuracy: 0.9532 - val_loss: 0.0562 - val_accuracy: 0.9870\n",
      "Epoch 24/25\n",
      "981/981 [==============================] - 34s 35ms/step - loss: 0.1847 - accuracy: 0.9569 - val_loss: 0.0346 - val_accuracy: 0.9921\n",
      "Epoch 25/25\n",
      "981/981 [==============================] - 33s 33ms/step - loss: 0.2204 - accuracy: 0.9516 - val_loss: 0.0371 - val_accuracy: 0.9912\n"
     ]
    }
   ],
   "source": [
    "model.compile(loss='categorical_crossentropy', optimizer='adam', metrics=['accuracy'])\n",
    "\n",
    "epochs = 25\n",
    "history = model.fit(X_train, y_train, batch_size=32, epochs=epochs, validation_data=(X_test, y_test))\n",
    "model.save(\"modelo.h5\")"
   ]
  },
  {
   "cell_type": "code",
   "execution_count": 47,
   "id": "337d5a68",
   "metadata": {},
   "outputs": [],
   "source": [
    "%matplotlib inline\n",
    "import cv2\n",
    "from matplotlib import pyplot as plt"
   ]
  },
  {
   "cell_type": "code",
   "execution_count": null,
   "id": "a4f71934",
   "metadata": {},
   "outputs": [],
   "source": []
  },
  {
   "cell_type": "code",
   "execution_count": 7,
   "id": "32a56589",
   "metadata": {},
   "outputs": [
    {
     "data": {
      "text/plain": [
       "<keras.engine.sequential.Sequential at 0x224175386d0>"
      ]
     },
     "execution_count": 7,
     "metadata": {},
     "output_type": "execute_result"
    }
   ],
   "source": [
    "model = load_model(\"modelo.h5\")\n",
    "model"
   ]
  },
  {
   "cell_type": "code",
   "execution_count": 55,
   "id": "03f3d8c3",
   "metadata": {
    "scrolled": true
   },
   "outputs": [
    {
     "name": "stdout",
     "output_type": "stream",
     "text": [
      "1226/1226 [==============================] - 7s 5ms/step\n",
      "395/395 [==============================] - 2s 5ms/step\n"
     ]
    }
   ],
   "source": [
    "y_test = pd.read_csv('Train.csv')\n",
    "labels = y_test[\"ClassId\"].values\n",
    "imgs = y_test[\"Path\"].values\n",
    "data=[]\n",
    "\n",
    "for img in imgs:\n",
    "    image = Image.open(img)\n",
    "    image = image.resize((30,30))\n",
    "    data.append(np.array(image))\n",
    "X_test=np.array(data)\n",
    "predict_x=model.predict(X_test) \n",
    "\n",
    "y_test = pd.read_csv('Test.csv')\n",
    "labels = y_test[\"ClassId\"].values\n",
    "imgs = y_test[\"Path\"].values\n",
    "data=[]\n",
    "\n",
    "for img in imgs:\n",
    "    image = Image.open(img)\n",
    "    image = image.resize((30,30))\n",
    "    data.append(np.array(image))\n",
    "X_test=np.array(data)\n",
    "predict_x=model.predict(X_test)\n",
    "model.save('classificacao.h5')"
   ]
  },
  {
   "cell_type": "code",
   "execution_count": 66,
   "id": "3599db48",
   "metadata": {},
   "outputs": [
    {
     "name": "stdout",
     "output_type": "stream",
     "text": [
      "395/395 [==============================] - 2s 5ms/step\n"
     ]
    },
    {
     "data": {
      "text/plain": [
       "array([0.0000e+00, 0.0000e+00, 0.0000e+00, 0.0000e+00, 0.0000e+00,\n",
       "       0.0000e+00, 0.0000e+00, 0.0000e+00, 0.0000e+00, 4.9144e-32,\n",
       "       0.0000e+00, 0.0000e+00, 0.0000e+00, 0.0000e+00, 0.0000e+00,\n",
       "       0.0000e+00, 1.0000e+00, 0.0000e+00, 0.0000e+00, 0.0000e+00,\n",
       "       0.0000e+00, 0.0000e+00, 0.0000e+00, 0.0000e+00, 0.0000e+00,\n",
       "       0.0000e+00, 0.0000e+00, 0.0000e+00, 0.0000e+00, 0.0000e+00,\n",
       "       0.0000e+00, 0.0000e+00, 0.0000e+00, 0.0000e+00, 0.0000e+00,\n",
       "       0.0000e+00, 0.0000e+00, 0.0000e+00, 0.0000e+00, 0.0000e+00,\n",
       "       0.0000e+00, 0.0000e+00, 0.0000e+00], dtype=float32)"
      ]
     },
     "execution_count": 66,
     "metadata": {},
     "output_type": "execute_result"
    }
   ],
   "source": [
    "model.predict(np.array(X_test))[0]"
   ]
  },
  {
   "cell_type": "code",
   "execution_count": null,
   "id": "5daa93b8",
   "metadata": {},
   "outputs": [],
   "source": []
  },
  {
   "cell_type": "code",
   "execution_count": null,
   "id": "ededb405",
   "metadata": {},
   "outputs": [],
   "source": []
  },
  {
   "cell_type": "code",
   "execution_count": 28,
   "id": "d258e6a0",
   "metadata": {},
   "outputs": [
    {
     "data": {
      "image/png": "[encoded data removed]",
      "text/plain": [
       "<Figure size 432x288 with 1 Axes>"
      ]
     },
     "metadata": {
      "needs_background": "light"
     },
     "output_type": "display_data"
    }
   ],
   "source": [
    "%matplotlib inline\n",
    "#The line above is necesary to show Matplotlib's plots inside a Jupyter Notebook\n",
    "\n",
    "\n",
    "#Import image\n",
    "img_test = cv2.imread(imgs[0])\n",
    "\n",
    "#Show the image with matplotlib\n",
    "plt.imshow(img_test)\n",
    "plt.show()"
   ]
  },
  {
   "cell_type": "code",
   "execution_count": null,
   "id": "19317136",
   "metadata": {},
   "outputs": [],
   "source": []
  },
  {
   "cell_type": "code",
   "execution_count": null,
   "id": "a55aaa94",
   "metadata": {},
   "outputs": [],
   "source": []
  },
  {
   "cell_type": "code",
   "execution_count": null,
   "id": "43c0d648",
   "metadata": {},
   "outputs": [],
   "source": []
  }
 ],
 "metadata": {
  "kernelspec": {
   "display_name": "Python 3 (ipykernel)",
   "language": "python",
   "name": "python3"
  },
  "language_info": {
   "codemirror_mode": {
    "name": "ipython",
    "version": 3
   },
   "file_extension": ".py",
   "mimetype": "text/x-python",
   "name": "python",
   "nbconvert_exporter": "python",
   "pygments_lexer": "ipython3",
   "version": "3.9.7"
  }
 },
 "nbformat": 4,
 "nbformat_minor": 5
}
